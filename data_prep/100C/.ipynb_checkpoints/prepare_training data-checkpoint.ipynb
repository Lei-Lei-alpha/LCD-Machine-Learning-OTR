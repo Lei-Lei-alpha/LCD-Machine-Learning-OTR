{
 "cells": [
  {
   "cell_type": "code",
   "execution_count": 1,
   "id": "dcf4ebf9-96fd-4019-bf4d-536734465d34",
   "metadata": {},
   "outputs": [],
   "source": [
    "import os\n",
    "import cv2\n",
    "import numpy as np\n",
    "import matplotlib.pyplot as plt\n",
    "import imutils\n",
    "import matplotlib as mpl\n",
    "mpl.rcParams['image.cmap'] = 'gray'"
   ]
  },
  {
   "cell_type": "code",
   "execution_count": 5,
   "id": "a418900d-0a3d-4608-9790-359a348e51aa",
   "metadata": {},
   "outputs": [],
   "source": [
    "def make_bin(img, gmin=180, gmax=255):\n",
    "    # Thresholding the image\n",
    "    (thresh, img_bin) = cv2.threshold(img,gmin, gmax, cv2.THRESH_BINARY|     cv2.THRESH_OTSU)\n",
    "    # Invert the image\n",
    "    img_bin = 255-img_bin\n",
    "#     cv2.imwrite(\"Images/Image_bin.jpg\", img_bin)\n",
    "#     plt.axis('off')\n",
    "#     plt.imshow(img_bin)\n",
    "    return img_bin\n",
    "# img_bin=make_bin(new_image)"
   ]
  },
  {
   "cell_type": "code",
   "execution_count": 15,
   "id": "afb6f267-bd92-4465-8223-972b40c44121",
   "metadata": {},
   "outputs": [
    {
     "ename": "FileNotFoundError",
     "evalue": "[Errno 2] No such file or directory: '/outs'",
     "output_type": "error",
     "traceback": [
      "\u001b[0;31m---------------------------------------------------------------------------\u001b[0m",
      "\u001b[0;31mFileNotFoundError\u001b[0m                         Traceback (most recent call last)",
      "\u001b[0;32m<ipython-input-15-21211e2c6339>\u001b[0m in \u001b[0;36m<module>\u001b[0;34m\u001b[0m\n\u001b[1;32m      4\u001b[0m \u001b[0msavs\u001b[0m\u001b[0;34m=\u001b[0m\u001b[0;34m[\u001b[0m\u001b[0;34m]\u001b[0m\u001b[0;34m\u001b[0m\u001b[0;34m\u001b[0m\u001b[0m\n\u001b[1;32m      5\u001b[0m \u001b[0;34m\u001b[0m\u001b[0m\n\u001b[0;32m----> 6\u001b[0;31m \u001b[0;32mfor\u001b[0m \u001b[0mfile\u001b[0m \u001b[0;32min\u001b[0m \u001b[0mos\u001b[0m\u001b[0;34m.\u001b[0m\u001b[0mlistdir\u001b[0m\u001b[0;34m(\u001b[0m\u001b[0mrDir\u001b[0m\u001b[0;34m)\u001b[0m\u001b[0;34m:\u001b[0m\u001b[0;34m\u001b[0m\u001b[0;34m\u001b[0m\u001b[0m\n\u001b[0m\u001b[1;32m      7\u001b[0m     \u001b[0;32mif\u001b[0m \u001b[0mfile\u001b[0m\u001b[0;34m.\u001b[0m\u001b[0mendswith\u001b[0m\u001b[0;34m(\u001b[0m\u001b[0;34m\".jpg\"\u001b[0m\u001b[0;34m)\u001b[0m\u001b[0;34m:\u001b[0m\u001b[0;34m\u001b[0m\u001b[0;34m\u001b[0m\u001b[0m\n\u001b[1;32m      8\u001b[0m         \u001b[0msavs\u001b[0m\u001b[0;34m.\u001b[0m\u001b[0mappend\u001b[0m\u001b[0;34m(\u001b[0m\u001b[0mos\u001b[0m\u001b[0;34m.\u001b[0m\u001b[0mpath\u001b[0m\u001b[0;34m.\u001b[0m\u001b[0mjoin\u001b[0m\u001b[0;34m(\u001b[0m\u001b[0mrDir\u001b[0m\u001b[0;34m,\u001b[0m\u001b[0mfile\u001b[0m\u001b[0;34m)\u001b[0m\u001b[0;34m)\u001b[0m\u001b[0;34m\u001b[0m\u001b[0;34m\u001b[0m\u001b[0m\n",
      "\u001b[0;31mFileNotFoundError\u001b[0m: [Errno 2] No such file or directory: '/outs'"
     ]
    }
   ],
   "source": [
    "rDir = r'./outs'\n",
    "out_folder='/mnt/c/users/stcik/scire/papers/muon/100C/binary'\n",
    "os.makedirs(out_folder,exist_ok=True)\n",
    "savs=[]\n",
    "\n",
    "for file in os.listdir(rDir):\n",
    "    if file.endswith(\".jpg\"):\n",
    "        savs.append(os.path.join(rDir,file))\n",
    "\n",
    "for sav in savs:\n",
    "    image_path=sav\n",
    "    image=cv2.imread(image_path, cv2.IMREAD_GRAYSCALE)\n",
    "    img_bin=make_bin(image)\n",
    "    name = image_path.split('/')[-1]\n",
    "    cv2.imwrite(os.path.join(out_folder, f'{name}'), img_bin)"
   ]
  },
  {
   "cell_type": "code",
   "execution_count": 7,
   "id": "7744aa8a-8ad1-4dae-b2ff-92dd543a5e30",
   "metadata": {},
   "outputs": [
    {
     "name": "stdout",
     "output_type": "stream",
     "text": [
      "/mnt/c/Users/stcik/scire/papers/muon/100C/binary\n"
     ]
    }
   ],
   "source": [
    "#Rename the images files in the binary folder\n",
    "os.chdir('./binary')\n",
    "print(os.getcwd())\n",
    "COUNT = 1000\n",
    "  \n",
    "# Function to increment count \n",
    "# to make the files sorted.\n",
    "def increment():\n",
    "    global COUNT\n",
    "    COUNT = COUNT + 1\n",
    "  \n",
    "  \n",
    "for f in os.listdir():\n",
    "    f_name, f_ext = os.path.splitext(f)\n",
    "    f_name = \"100C_\" + str(COUNT)\n",
    "    increment()\n",
    "  \n",
    "    new_name = '{} {}'.format(f_name, f_ext)\n",
    "    os.rename(f, new_name)"
   ]
  },
  {
   "cell_type": "code",
   "execution_count": 9,
   "id": "83fc8bc6-2456-4d46-ad4c-2d36db7ff1ff",
   "metadata": {},
   "outputs": [],
   "source": [
    "readings=[99.8,100.0,100.3,100.3,100.3,100.2,100.2,100.2,100.4,100.4,100.4,\n",
    "         100.6,100.8,100.8,101.0,101.1,101.1,101.3,101.3,101.2,101.2,101.1,\n",
    "         100.9,100.9,100.5,100.5,100.2,100.3,100.3,100.4,100.4,100.4,100.4,\n",
    "         100.6,100.6,100.4,100.4,100.2,100.1,100.1,100.1,100.2,100.4,100.4,\n",
    "         100.3,100.2,100.2,100.3,100.3,100.3,100.2,99.7,99.7,99.6,99.2,99.2,\n",
    "         98.7,98.2,98.4,98.4,98.6,98.8,98.8,98.8,98.8,98.8,99.0,\n",
    "         99.0,99.0,99.0,99.1,99.1,99.2,99.2,99.6,99.8,99.8,99.6,\n",
    "         99.6,99.6,99.8,100.1,100.2,100.2,100.2,100.5,100.5,100.7,100.7,\n",
    "         100.7,100.6,100.4,100.1,100.1,100.2,100.2,99.9,99.9,100.4,100.4,\n",
    "         100.4,100.5,100.5,100.2,100.2,100.3,100.4,100.4,100.5,100.7,100.7,\n",
    "         100.7,100.8,100.8,100.8,100.8,100.8,100.8,100.9,100.9,101.1,101.7,\n",
    "         101.0,100.9,100.9,100.9,100.9,100.8,100.8,100.4,100.0,100.0,99.8,\n",
    "         99.9,99.9,100.0,100.2,100.2,100.2,100.2,100.2,100.2,100.1,100.1,\n",
    "         99.9,99.4,99.4,99.4,99.3,99.3,99.4,99.4,99.4,99.8,100.2,\n",
    "         100.5,100.5,100.6,100.6,100.6,100.8,100.8,100.8,100.5,100.7,100.7,\n",
    "         100.8,100.8,100.8,101.0,101.0,100.9,100.9,101.2,101.2,100.6,100.6,\n",
    "         100.6,100.7,100.9,100.9,100.8,100.9,100.9,100.9,100.8,100.8,100.9,\n",
    "         101.1,101.7,101.3,101.3,101.4,101.4,101.4]\n"
   ]
  },
  {
   "cell_type": "code",
   "execution_count": 12,
   "id": "bec80316-e8f7-44d2-aee7-9de94b58dc5a",
   "metadata": {},
   "outputs": [
    {
     "name": "stdout",
     "output_type": "stream",
     "text": [
      "Data saved!\n"
     ]
    }
   ],
   "source": [
    "rDir = r'/mnt/c/users/stcik/scire/papers/muon/deep-text-recognition-benchmark/data/test'\n",
    "savs=[]\n",
    "\n",
    "for file in os.listdir(rDir):\n",
    "    if file.endswith(\".jpg\"):\n",
    "        savs.append(os.path.join(rDir,file))\n",
    "\n",
    "data = [savs, readings]\n",
    "\n",
    "with open('/mnt/c/users/stcik/scire/papers/muon/deep-text-recognition-benchmark/data/gt.txt', 'w') as f:\n",
    "    for x in zip(*data):\n",
    "        f.write(\"{0}\\t{1}\\n\".format(*x))\n",
    "print('Data saved!')\n",
    "f.close()"
   ]
  }
 ],
 "metadata": {
  "kernelspec": {
   "display_name": "Python 3",
   "language": "python",
   "name": "python3"
  },
  "language_info": {
   "codemirror_mode": {
    "name": "ipython",
    "version": 3
   },
   "file_extension": ".py",
   "mimetype": "text/x-python",
   "name": "python",
   "nbconvert_exporter": "python",
   "pygments_lexer": "ipython3",
   "version": "3.8.5"
  }
 },
 "nbformat": 4,
 "nbformat_minor": 5
}
